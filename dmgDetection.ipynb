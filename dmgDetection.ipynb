{
 "cells": [
  {
   "cell_type": "code",
   "execution_count": 2,
   "id": "45ba9382-2c9c-4af1-9752-a77fd43d77d4",
   "metadata": {},
   "outputs": [],
   "source": [
    "import tensorflow as tf\n",
    "from tensorflow.keras.applications import ResNet50, VGG16\n",
    "from tensorflow.keras.preprocessing.image import ImageDataGenerator\n",
    "from tensorflow.keras.layers import Dense, Flatten\n",
    "from tensorflow.keras.models import Model\n",
    "from tensorflow.keras.optimizers import Adam\n",
    "import splitfolders"
   ]
  },
  {
   "cell_type": "markdown",
   "id": "761dd14b-7d54-4e1f-85c5-c8007591af1f",
   "metadata": {},
   "source": [
    "### Function to Create Model"
   ]
  },
  {
   "cell_type": "code",
   "execution_count": 3,
   "id": "21c18ef1-3d74-4130-9608-662bb0889e0a",
   "metadata": {},
   "outputs": [],
   "source": [
    "def create_model(base_model, input_shape=(224, 224, 3), num_classes=2):\n",
    "    base_model.trainable = False\n",
    "    x = Flatten()(base_model.output)\n",
    "    x = Dense(512, activation='relu')(x)\n",
    "    x = Dense(num_classes, activation='softmax')(x)\n",
    "    model = Model(inputs=base_model.input, outputs=x)\n",
    "    model.compile(optimizer=Adam(learning_rate=1e-4), loss='categorical_crossentropy', metrics=['accuracy'])\n",
    "    return model"
   ]
  },
  {
   "cell_type": "markdown",
   "id": "35e2cbd0-ccbc-4f32-ae20-28b2f1330119",
   "metadata": {},
   "source": [
    "### Data Generations"
   ]
  },
  {
   "cell_type": "code",
   "execution_count": 4,
   "id": "df8560d6-d4a9-4002-b7f6-0ed1bbc80a2b",
   "metadata": {},
   "outputs": [
    {
     "name": "stdout",
     "output_type": "stream",
     "text": [
      "Found 414 images belonging to 2 classes.\n",
      "Found 665 images belonging to 2 classes.\n",
      "Found 649 images belonging to 2 classes.\n"
     ]
    }
   ],
   "source": [
    "train_datagen = ImageDataGenerator(rescale=1./255, horizontal_flip=True, zoom_range=0.2)\n",
    "val_datagen = ImageDataGenerator(rescale=1./255)\n",
    "test_datagen = ImageDataGenerator(rescale=1./255)\n",
    "\n",
    "train_generator = train_datagen.flow_from_directory(\n",
    "    'dataset/train',\n",
    "    target_size=(224, 224),\n",
    "    batch_size=32,\n",
    "    class_mode='categorical'\n",
    ")\n",
    "\n",
    "val_generator = val_datagen.flow_from_directory(\n",
    "    'dataset/val',\n",
    "    target_size=(224, 224),\n",
    "    batch_size=32,\n",
    "    class_mode='categorical'\n",
    ")\n",
    "\n",
    "test_generator = test_datagen.flow_from_directory(\n",
    "    'dataset/test',\n",
    "    target_size=(224, 224),\n",
    "    batch_size=32,\n",
    "    class_mode='categorical'\n",
    ")"
   ]
  },
  {
   "cell_type": "markdown",
   "id": "525fd0eb-d635-442b-a588-ff53896b0edc",
   "metadata": {},
   "source": [
    "### Resnet50"
   ]
  },
  {
   "cell_type": "code",
   "execution_count": 5,
   "id": "9a721720-2e2e-4bd3-beb4-602d824c0fb8",
   "metadata": {},
   "outputs": [
    {
     "name": "stdout",
     "output_type": "stream",
     "text": [
      "Epoch 1/10\n"
     ]
    },
    {
     "name": "stderr",
     "output_type": "stream",
     "text": [
      "E:\\Programing\\ML\\ml-venv\\lib\\site-packages\\keras\\src\\trainers\\data_adapters\\py_dataset_adapter.py:121: UserWarning: Your `PyDataset` class should call `super().__init__(**kwargs)` in its constructor. `**kwargs` can include `workers`, `use_multiprocessing`, `max_queue_size`. Do not pass these arguments to `fit()`, as they will be ignored.\n",
      "  self._warn_if_super_not_called()\n"
     ]
    },
    {
     "name": "stdout",
     "output_type": "stream",
     "text": [
      "\u001b[1m13/13\u001b[0m \u001b[32m━━━━━━━━━━━━━━━━━━━━\u001b[0m\u001b[37m\u001b[0m \u001b[1m64s\u001b[0m 4s/step - accuracy: 0.5785 - loss: 3.1501 - val_accuracy: 0.7188 - val_loss: 0.6419\n",
      "Epoch 2/10\n",
      "\u001b[1m13/13\u001b[0m \u001b[32m━━━━━━━━━━━━━━━━━━━━\u001b[0m\u001b[37m\u001b[0m \u001b[1m55s\u001b[0m 4s/step - accuracy: 0.7365 - loss: 0.7636 - val_accuracy: 0.7338 - val_loss: 0.7409\n",
      "Epoch 3/10\n",
      "\u001b[1m13/13\u001b[0m \u001b[32m━━━━━━━━━━━━━━━━━━━━\u001b[0m\u001b[37m\u001b[0m \u001b[1m56s\u001b[0m 4s/step - accuracy: 0.8105 - loss: 0.4859 - val_accuracy: 0.7459 - val_loss: 0.6436\n",
      "Epoch 4/10\n",
      "\u001b[1m13/13\u001b[0m \u001b[32m━━━━━━━━━━━━━━━━━━━━\u001b[0m\u001b[37m\u001b[0m \u001b[1m55s\u001b[0m 4s/step - accuracy: 0.8544 - loss: 0.3692 - val_accuracy: 0.7564 - val_loss: 0.5920\n",
      "Epoch 5/10\n",
      "\u001b[1m13/13\u001b[0m \u001b[32m━━━━━━━━━━━━━━━━━━━━\u001b[0m\u001b[37m\u001b[0m \u001b[1m55s\u001b[0m 4s/step - accuracy: 0.8681 - loss: 0.3386 - val_accuracy: 0.7594 - val_loss: 0.5960\n",
      "Epoch 6/10\n",
      "\u001b[1m13/13\u001b[0m \u001b[32m━━━━━━━━━━━━━━━━━━━━\u001b[0m\u001b[37m\u001b[0m \u001b[1m55s\u001b[0m 4s/step - accuracy: 0.8608 - loss: 0.3650 - val_accuracy: 0.8271 - val_loss: 0.3877\n",
      "Epoch 7/10\n",
      "\u001b[1m13/13\u001b[0m \u001b[32m━━━━━━━━━━━━━━━━━━━━\u001b[0m\u001b[37m\u001b[0m \u001b[1m55s\u001b[0m 4s/step - accuracy: 0.8748 - loss: 0.3154 - val_accuracy: 0.8782 - val_loss: 0.2577\n",
      "Epoch 8/10\n",
      "\u001b[1m13/13\u001b[0m \u001b[32m━━━━━━━━━━━━━━━━━━━━\u001b[0m\u001b[37m\u001b[0m \u001b[1m56s\u001b[0m 4s/step - accuracy: 0.8916 - loss: 0.3004 - val_accuracy: 0.8241 - val_loss: 0.4139\n",
      "Epoch 9/10\n",
      "\u001b[1m13/13\u001b[0m \u001b[32m━━━━━━━━━━━━━━━━━━━━\u001b[0m\u001b[37m\u001b[0m \u001b[1m54s\u001b[0m 4s/step - accuracy: 0.8875 - loss: 0.3093 - val_accuracy: 0.8436 - val_loss: 0.3397\n",
      "Epoch 10/10\n",
      "\u001b[1m13/13\u001b[0m \u001b[32m━━━━━━━━━━━━━━━━━━━━\u001b[0m\u001b[37m\u001b[0m \u001b[1m53s\u001b[0m 4s/step - accuracy: 0.8990 - loss: 0.2551 - val_accuracy: 0.9098 - val_loss: 0.2029\n",
      "\u001b[1m21/21\u001b[0m \u001b[32m━━━━━━━━━━━━━━━━━━━━\u001b[0m\u001b[37m\u001b[0m \u001b[1m24s\u001b[0m 1s/step - accuracy: 0.9270 - loss: 0.1723\n",
      "\u001b[1m21/21\u001b[0m \u001b[32m━━━━━━━━━━━━━━━━━━━━\u001b[0m\u001b[37m\u001b[0m \u001b[1m23s\u001b[0m 1s/step - accuracy: 0.8916 - loss: 0.2081\n",
      "ResNet - Validation Loss: 0.2028752565383911, Validation Accuracy: 0.9097744226455688\n",
      "ResNet - Test Loss: 0.21346569061279297, Test Accuracy: 0.8890600800514221\n"
     ]
    }
   ],
   "source": [
    "resnet_base = ResNet50(weights='imagenet', include_top=False, input_shape=(224, 224, 3))\n",
    "resnet_model = create_model(resnet_base)\n",
    "resnet_history = resnet_model.fit(train_generator, epochs=10, validation_data=val_generator)\n",
    "resnet_val_loss, resnet_val_acc = resnet_model.evaluate(val_generator)\n",
    "resnet_test_loss, resnet_test_acc = resnet_model.evaluate(test_generator)\n",
    "print(f\"ResNet - Validation Loss: {resnet_val_loss}, Validation Accuracy: {resnet_val_acc}\")\n",
    "print(f\"ResNet - Test Loss: {resnet_test_loss}, Test Accuracy: {resnet_test_acc}\")"
   ]
  },
  {
   "cell_type": "markdown",
   "id": "cb61d452-672c-4d92-95f7-52f4cff05e93",
   "metadata": {},
   "source": [
    "### VGG"
   ]
  },
  {
   "cell_type": "code",
   "execution_count": 6,
   "id": "09b45567-dae2-4086-8465-0686ffd4ac38",
   "metadata": {},
   "outputs": [
    {
     "name": "stdout",
     "output_type": "stream",
     "text": [
      "Epoch 1/10\n",
      "\u001b[1m13/13\u001b[0m \u001b[32m━━━━━━━━━━━━━━━━━━━━\u001b[0m\u001b[37m\u001b[0m \u001b[1m64s\u001b[0m 5s/step - accuracy: 0.7689 - loss: 0.5093 - val_accuracy: 0.9338 - val_loss: 0.1831\n",
      "Epoch 2/10\n",
      "\u001b[1m13/13\u001b[0m \u001b[32m━━━━━━━━━━━━━━━━━━━━\u001b[0m\u001b[37m\u001b[0m \u001b[1m64s\u001b[0m 5s/step - accuracy: 0.9410 - loss: 0.1367 - val_accuracy: 0.9549 - val_loss: 0.1330\n",
      "Epoch 3/10\n",
      "\u001b[1m13/13\u001b[0m \u001b[32m━━━━━━━━━━━━━━━━━━━━\u001b[0m\u001b[37m\u001b[0m \u001b[1m67s\u001b[0m 5s/step - accuracy: 0.9674 - loss: 0.1205 - val_accuracy: 0.9459 - val_loss: 0.1547\n",
      "Epoch 4/10\n",
      "\u001b[1m13/13\u001b[0m \u001b[32m━━━━━━━━━━━━━━━━━━━━\u001b[0m\u001b[37m\u001b[0m \u001b[1m67s\u001b[0m 5s/step - accuracy: 0.9805 - loss: 0.0606 - val_accuracy: 0.9444 - val_loss: 0.1923\n",
      "Epoch 5/10\n",
      "\u001b[1m13/13\u001b[0m \u001b[32m━━━━━━━━━━━━━━━━━━━━\u001b[0m\u001b[37m\u001b[0m \u001b[1m68s\u001b[0m 5s/step - accuracy: 0.9737 - loss: 0.0683 - val_accuracy: 0.9188 - val_loss: 0.3339\n",
      "Epoch 6/10\n",
      "\u001b[1m13/13\u001b[0m \u001b[32m━━━━━━━━━━━━━━━━━━━━\u001b[0m\u001b[37m\u001b[0m \u001b[1m67s\u001b[0m 5s/step - accuracy: 0.9845 - loss: 0.0458 - val_accuracy: 0.9534 - val_loss: 0.1611\n",
      "Epoch 7/10\n",
      "\u001b[1m13/13\u001b[0m \u001b[32m━━━━━━━━━━━━━━━━━━━━\u001b[0m\u001b[37m\u001b[0m \u001b[1m67s\u001b[0m 5s/step - accuracy: 0.9924 - loss: 0.0315 - val_accuracy: 0.9534 - val_loss: 0.1655\n",
      "Epoch 8/10\n",
      "\u001b[1m13/13\u001b[0m \u001b[32m━━━━━━━━━━━━━━━━━━━━\u001b[0m\u001b[37m\u001b[0m \u001b[1m67s\u001b[0m 5s/step - accuracy: 0.9886 - loss: 0.0275 - val_accuracy: 0.9474 - val_loss: 0.2017\n",
      "Epoch 9/10\n",
      "\u001b[1m13/13\u001b[0m \u001b[32m━━━━━━━━━━━━━━━━━━━━\u001b[0m\u001b[37m\u001b[0m \u001b[1m67s\u001b[0m 5s/step - accuracy: 0.9915 - loss: 0.0234 - val_accuracy: 0.9414 - val_loss: 0.2708\n",
      "Epoch 10/10\n",
      "\u001b[1m13/13\u001b[0m \u001b[32m━━━━━━━━━━━━━━━━━━━━\u001b[0m\u001b[37m\u001b[0m \u001b[1m67s\u001b[0m 5s/step - accuracy: 0.9968 - loss: 0.0178 - val_accuracy: 0.9579 - val_loss: 0.1818\n",
      "\u001b[1m21/21\u001b[0m \u001b[32m━━━━━━━━━━━━━━━━━━━━\u001b[0m\u001b[37m\u001b[0m \u001b[1m37s\u001b[0m 2s/step - accuracy: 0.9595 - loss: 0.1752\n",
      "\u001b[1m21/21\u001b[0m \u001b[32m━━━━━━━━━━━━━━━━━━━━\u001b[0m\u001b[37m\u001b[0m \u001b[1m35s\u001b[0m 2s/step - accuracy: 0.9566 - loss: 0.1129\n",
      "VGG - Validation Loss: 0.18182353675365448, Validation Accuracy: 0.9578947424888611\n",
      "VGG - Test Loss: 0.1291690170764923, Test Accuracy: 0.9568567276000977\n"
     ]
    }
   ],
   "source": [
    "vgg_base = VGG16(weights='imagenet', include_top=False, input_shape=(224, 224, 3))\n",
    "vgg_model = create_model(vgg_base)\n",
    "vgg_history = vgg_model.fit(train_generator, epochs=10, validation_data=val_generator)\n",
    "vgg_val_loss, vgg_val_acc = vgg_model.evaluate(val_generator)\n",
    "vgg_test_loss, vgg_test_acc = vgg_model.evaluate(test_generator)\n",
    "print(f\"VGG - Validation Loss: {vgg_val_loss}, Validation Accuracy: {vgg_val_acc}\")\n",
    "print(f\"VGG - Test Loss: {vgg_test_loss}, Test Accuracy: {vgg_test_acc}\")"
   ]
  },
  {
   "cell_type": "markdown",
   "id": "bf371fdd-d36e-4b5f-ac73-8ebd76bdd773",
   "metadata": {},
   "source": [
    "### DenseNet"
   ]
  },
  {
   "cell_type": "code",
   "execution_count": 7,
   "id": "63278df4-9cbb-4b86-9736-417e5b2075e0",
   "metadata": {},
   "outputs": [
    {
     "name": "stdout",
     "output_type": "stream",
     "text": [
      "Epoch 1/10\n",
      "\u001b[1m13/13\u001b[0m \u001b[32m━━━━━━━━━━━━━━━━━━━━\u001b[0m\u001b[37m\u001b[0m \u001b[1m70s\u001b[0m 4s/step - accuracy: 0.7500 - loss: 0.9294 - val_accuracy: 0.9684 - val_loss: 0.1684\n",
      "Epoch 2/10\n",
      "\u001b[1m13/13\u001b[0m \u001b[32m━━━━━━━━━━━━━━━━━━━━\u001b[0m\u001b[37m\u001b[0m \u001b[1m60s\u001b[0m 4s/step - accuracy: 0.9576 - loss: 0.1785 - val_accuracy: 0.9113 - val_loss: 0.5850\n",
      "Epoch 3/10\n",
      "\u001b[1m13/13\u001b[0m \u001b[32m━━━━━━━━━━━━━━━━━━━━\u001b[0m\u001b[37m\u001b[0m \u001b[1m59s\u001b[0m 4s/step - accuracy: 0.9654 - loss: 0.1216 - val_accuracy: 0.9654 - val_loss: 0.1574\n",
      "Epoch 4/10\n",
      "\u001b[1m13/13\u001b[0m \u001b[32m━━━━━━━━━━━━━━━━━━━━\u001b[0m\u001b[37m\u001b[0m \u001b[1m58s\u001b[0m 4s/step - accuracy: 0.9897 - loss: 0.0337 - val_accuracy: 0.9684 - val_loss: 0.1520\n",
      "Epoch 5/10\n",
      "\u001b[1m13/13\u001b[0m \u001b[32m━━━━━━━━━━━━━━━━━━━━\u001b[0m\u001b[37m\u001b[0m \u001b[1m57s\u001b[0m 4s/step - accuracy: 0.9855 - loss: 0.0355 - val_accuracy: 0.9594 - val_loss: 0.2593\n",
      "Epoch 6/10\n",
      "\u001b[1m13/13\u001b[0m \u001b[32m━━━━━━━━━━━━━━━━━━━━\u001b[0m\u001b[37m\u001b[0m \u001b[1m60s\u001b[0m 4s/step - accuracy: 0.9968 - loss: 0.0091 - val_accuracy: 0.9654 - val_loss: 0.2392\n",
      "Epoch 7/10\n",
      "\u001b[1m13/13\u001b[0m \u001b[32m━━━━━━━━━━━━━━━━━━━━\u001b[0m\u001b[37m\u001b[0m \u001b[1m60s\u001b[0m 4s/step - accuracy: 0.9929 - loss: 0.0218 - val_accuracy: 0.9699 - val_loss: 0.1823\n",
      "Epoch 8/10\n",
      "\u001b[1m13/13\u001b[0m \u001b[32m━━━━━━━━━━━━━━━━━━━━\u001b[0m\u001b[37m\u001b[0m \u001b[1m59s\u001b[0m 4s/step - accuracy: 0.9990 - loss: 0.0085 - val_accuracy: 0.9624 - val_loss: 0.2347\n",
      "Epoch 9/10\n",
      "\u001b[1m13/13\u001b[0m \u001b[32m━━━━━━━━━━━━━━━━━━━━\u001b[0m\u001b[37m\u001b[0m \u001b[1m57s\u001b[0m 4s/step - accuracy: 0.9944 - loss: 0.0072 - val_accuracy: 0.9699 - val_loss: 0.2074\n",
      "Epoch 10/10\n",
      "\u001b[1m13/13\u001b[0m \u001b[32m━━━━━━━━━━━━━━━━━━━━\u001b[0m\u001b[37m\u001b[0m \u001b[1m58s\u001b[0m 4s/step - accuracy: 1.0000 - loss: 0.0047 - val_accuracy: 0.9624 - val_loss: 0.2762\n",
      "\u001b[1m21/21\u001b[0m \u001b[32m━━━━━━━━━━━━━━━━━━━━\u001b[0m\u001b[37m\u001b[0m \u001b[1m29s\u001b[0m 1s/step - accuracy: 0.9727 - loss: 0.1907\n",
      "\u001b[1m21/21\u001b[0m \u001b[32m━━━━━━━━━━━━━━━━━━━━\u001b[0m\u001b[37m\u001b[0m \u001b[1m29s\u001b[0m 1s/step - accuracy: 0.9599 - loss: 0.2426\n"
     ]
    },
    {
     "name": "stderr",
     "output_type": "stream",
     "text": [
      "WARNING:absl:You are saving your model as an HDF5 file via `model.save()` or `keras.saving.save_model(model)`. This file format is considered legacy. We recommend using instead the native Keras format, e.g. `model.save('my_model.keras')` or `keras.saving.save_model(model, 'my_model.keras')`. \n"
     ]
    },
    {
     "name": "stdout",
     "output_type": "stream",
     "text": [
      "DenseNet - Validation Loss: 0.27619627118110657, Validation Accuracy: 0.9624060392379761\n",
      "DenseNet - Test Loss: 0.2946264147758484, Test Accuracy: 0.9537750482559204\n"
     ]
    }
   ],
   "source": [
    "from tensorflow.keras.applications import DenseNet121\n",
    "\n",
    "# Create and train the DenseNet model\n",
    "densenet_base = DenseNet121(weights='imagenet', include_top=False, input_shape=(224, 224, 3))\n",
    "densenet_model = create_model(densenet_base)\n",
    "densenet_history = densenet_model.fit(train_generator, epochs=10, validation_data=val_generator)\n",
    "densenet_val_loss, densenet_val_acc = densenet_model.evaluate(val_generator)\n",
    "densenet_test_loss, densenet_test_acc = densenet_model.evaluate(test_generator)\n",
    "print(f\"DenseNet - Validation Loss: {densenet_val_loss}, Validation Accuracy: {densenet_val_acc}\")\n",
    "print(f\"DenseNet - Test Loss: {densenet_test_loss}, Test Accuracy: {densenet_test_acc}\")\n",
    "\n",
    "# Save the DenseNet model\n",
    "densenet_model.save('densenet_model.h5')"
   ]
  },
  {
   "cell_type": "markdown",
   "id": "79fa2844-4874-42f9-9138-d247f55a0b35",
   "metadata": {},
   "source": [
    "### MobileNet"
   ]
  },
  {
   "cell_type": "code",
   "execution_count": 8,
   "id": "a3774e36-22f6-41af-9d89-cf8ac7fb7eca",
   "metadata": {},
   "outputs": [
    {
     "name": "stdout",
     "output_type": "stream",
     "text": [
      "Epoch 1/10\n",
      "\u001b[1m13/13\u001b[0m \u001b[32m━━━━━━━━━━━━━━━━━━━━\u001b[0m\u001b[37m\u001b[0m \u001b[1m37s\u001b[0m 2s/step - accuracy: 0.7620 - loss: 1.4149 - val_accuracy: 0.9368 - val_loss: 0.4293\n",
      "Epoch 2/10\n",
      "\u001b[1m13/13\u001b[0m \u001b[32m━━━━━━━━━━━━━━━━━━━━\u001b[0m\u001b[37m\u001b[0m \u001b[1m32s\u001b[0m 2s/step - accuracy: 0.9776 - loss: 0.1019 - val_accuracy: 0.9669 - val_loss: 0.2439\n",
      "Epoch 3/10\n",
      "\u001b[1m13/13\u001b[0m \u001b[32m━━━━━━━━━━━━━━━━━━━━\u001b[0m\u001b[37m\u001b[0m \u001b[1m33s\u001b[0m 2s/step - accuracy: 0.9773 - loss: 0.0455 - val_accuracy: 0.9684 - val_loss: 0.2075\n",
      "Epoch 4/10\n",
      "\u001b[1m13/13\u001b[0m \u001b[32m━━━━━━━━━━━━━━━━━━━━\u001b[0m\u001b[37m\u001b[0m \u001b[1m33s\u001b[0m 2s/step - accuracy: 0.9779 - loss: 0.0404 - val_accuracy: 0.9158 - val_loss: 0.5224\n",
      "Epoch 5/10\n",
      "\u001b[1m13/13\u001b[0m \u001b[32m━━━━━━━━━━━━━━━━━━━━\u001b[0m\u001b[37m\u001b[0m \u001b[1m34s\u001b[0m 2s/step - accuracy: 0.9903 - loss: 0.0140 - val_accuracy: 0.9534 - val_loss: 0.3384\n",
      "Epoch 6/10\n",
      "\u001b[1m13/13\u001b[0m \u001b[32m━━━━━━━━━━━━━━━━━━━━\u001b[0m\u001b[37m\u001b[0m \u001b[1m35s\u001b[0m 2s/step - accuracy: 0.9987 - loss: 0.0061 - val_accuracy: 0.9218 - val_loss: 0.5190\n",
      "Epoch 7/10\n",
      "\u001b[1m13/13\u001b[0m \u001b[32m━━━━━━━━━━━━━━━━━━━━\u001b[0m\u001b[37m\u001b[0m \u001b[1m34s\u001b[0m 2s/step - accuracy: 0.9970 - loss: 0.0113 - val_accuracy: 0.9579 - val_loss: 0.3584\n",
      "Epoch 8/10\n",
      "\u001b[1m13/13\u001b[0m \u001b[32m━━━━━━━━━━━━━━━━━━━━\u001b[0m\u001b[37m\u001b[0m \u001b[1m33s\u001b[0m 2s/step - accuracy: 0.9997 - loss: 0.0059 - val_accuracy: 0.9459 - val_loss: 0.4353\n",
      "Epoch 9/10\n",
      "\u001b[1m13/13\u001b[0m \u001b[32m━━━━━━━━━━━━━━━━━━━━\u001b[0m\u001b[37m\u001b[0m \u001b[1m33s\u001b[0m 2s/step - accuracy: 0.9983 - loss: 0.0130 - val_accuracy: 0.9579 - val_loss: 0.2746\n",
      "Epoch 10/10\n",
      "\u001b[1m13/13\u001b[0m \u001b[32m━━━━━━━━━━━━━━━━━━━━\u001b[0m\u001b[37m\u001b[0m \u001b[1m33s\u001b[0m 2s/step - accuracy: 0.9865 - loss: 0.0190 - val_accuracy: 0.9038 - val_loss: 0.6478\n",
      "\u001b[1m21/21\u001b[0m \u001b[32m━━━━━━━━━━━━━━━━━━━━\u001b[0m\u001b[37m\u001b[0m \u001b[1m13s\u001b[0m 595ms/step - accuracy: 0.9014 - loss: 0.6238\n",
      "\u001b[1m21/21\u001b[0m \u001b[32m━━━━━━━━━━━━━━━━━━━━\u001b[0m\u001b[37m\u001b[0m \u001b[1m11s\u001b[0m 524ms/step - accuracy: 0.8723 - loss: 0.8726\n"
     ]
    },
    {
     "name": "stderr",
     "output_type": "stream",
     "text": [
      "WARNING:absl:You are saving your model as an HDF5 file via `model.save()` or `keras.saving.save_model(model)`. This file format is considered legacy. We recommend using instead the native Keras format, e.g. `model.save('my_model.keras')` or `keras.saving.save_model(model, 'my_model.keras')`. \n"
     ]
    },
    {
     "name": "stdout",
     "output_type": "stream",
     "text": [
      "MobileNetV2 - Validation Loss: 0.6477646231651306, Validation Accuracy: 0.9037594199180603\n",
      "MobileNetV2 - Test Loss: 0.696670413017273, Test Accuracy: 0.9013867378234863\n"
     ]
    }
   ],
   "source": [
    "from tensorflow.keras.applications import MobileNetV2\n",
    "\n",
    "# Create and train the MobileNetV2 model\n",
    "mobilenet_base = MobileNetV2(weights='imagenet', include_top=False, input_shape=(224, 224, 3))\n",
    "mobilenet_model = create_model(mobilenet_base)\n",
    "mobilenet_history = mobilenet_model.fit(train_generator, epochs=10, validation_data=val_generator)\n",
    "mobilenet_val_loss, mobilenet_val_acc = mobilenet_model.evaluate(val_generator)\n",
    "mobilenet_test_loss, mobilenet_test_acc = mobilenet_model.evaluate(test_generator)\n",
    "print(f\"MobileNetV2 - Validation Loss: {mobilenet_val_loss}, Validation Accuracy: {mobilenet_val_acc}\")\n",
    "print(f\"MobileNetV2 - Test Loss: {mobilenet_test_loss}, Test Accuracy: {mobilenet_test_acc}\")\n",
    "\n",
    "# Save the MobileNetV2 model\n",
    "mobilenet_model.save('models/mobilenet_model.h5')"
   ]
  },
  {
   "cell_type": "markdown",
   "id": "e7c9bb5a-1f3e-4861-baef-b8fa07f10efb",
   "metadata": {},
   "source": [
    "#### AlexNet"
   ]
  },
  {
   "cell_type": "code",
   "execution_count": 9,
   "id": "f5dc12b5-1063-4443-b2f9-89b2826aa77e",
   "metadata": {},
   "outputs": [
    {
     "name": "stderr",
     "output_type": "stream",
     "text": [
      "E:\\Programing\\ML\\ml-venv\\lib\\site-packages\\keras\\src\\layers\\convolutional\\base_conv.py:107: UserWarning: Do not pass an `input_shape`/`input_dim` argument to a layer. When using Sequential models, prefer using an `Input(shape)` object as the first layer in the model instead.\n",
      "  super().__init__(activity_regularizer=activity_regularizer, **kwargs)\n"
     ]
    },
    {
     "name": "stdout",
     "output_type": "stream",
     "text": [
      "Epoch 1/10\n",
      "\u001b[1m13/13\u001b[0m \u001b[32m━━━━━━━━━━━━━━━━━━━━\u001b[0m\u001b[37m\u001b[0m \u001b[1m30s\u001b[0m 2s/step - accuracy: 0.5836 - loss: 0.6765 - val_accuracy: 0.8526 - val_loss: 0.4790\n",
      "Epoch 2/10\n",
      "\u001b[1m13/13\u001b[0m \u001b[32m━━━━━━━━━━━━━━━━━━━━\u001b[0m\u001b[37m\u001b[0m \u001b[1m28s\u001b[0m 2s/step - accuracy: 0.7412 - loss: 0.5577 - val_accuracy: 0.7338 - val_loss: 0.5759\n",
      "Epoch 3/10\n",
      "\u001b[1m13/13\u001b[0m \u001b[32m━━━━━━━━━━━━━━━━━━━━\u001b[0m\u001b[37m\u001b[0m \u001b[1m28s\u001b[0m 2s/step - accuracy: 0.8499 - loss: 0.3877 - val_accuracy: 0.8632 - val_loss: 0.2929\n",
      "Epoch 4/10\n",
      "\u001b[1m13/13\u001b[0m \u001b[32m━━━━━━━━━━━━━━━━━━━━\u001b[0m\u001b[37m\u001b[0m \u001b[1m28s\u001b[0m 2s/step - accuracy: 0.8668 - loss: 0.3999 - val_accuracy: 0.8707 - val_loss: 0.2275\n",
      "Epoch 5/10\n",
      "\u001b[1m13/13\u001b[0m \u001b[32m━━━━━━━━━━━━━━━━━━━━\u001b[0m\u001b[37m\u001b[0m \u001b[1m28s\u001b[0m 2s/step - accuracy: 0.9083 - loss: 0.2598 - val_accuracy: 0.9248 - val_loss: 0.1998\n",
      "Epoch 6/10\n",
      "\u001b[1m13/13\u001b[0m \u001b[32m━━━━━━━━━━━━━━━━━━━━\u001b[0m\u001b[37m\u001b[0m \u001b[1m28s\u001b[0m 2s/step - accuracy: 0.9209 - loss: 0.2314 - val_accuracy: 0.9248 - val_loss: 0.1991\n",
      "Epoch 7/10\n",
      "\u001b[1m13/13\u001b[0m \u001b[32m━━━━━━━━━━━━━━━━━━━━\u001b[0m\u001b[37m\u001b[0m \u001b[1m28s\u001b[0m 2s/step - accuracy: 0.9289 - loss: 0.2051 - val_accuracy: 0.8917 - val_loss: 0.2407\n",
      "Epoch 8/10\n",
      "\u001b[1m13/13\u001b[0m \u001b[32m━━━━━━━━━━━━━━━━━━━━\u001b[0m\u001b[37m\u001b[0m \u001b[1m28s\u001b[0m 2s/step - accuracy: 0.9372 - loss: 0.2140 - val_accuracy: 0.8992 - val_loss: 0.2410\n",
      "Epoch 9/10\n",
      "\u001b[1m13/13\u001b[0m \u001b[32m━━━━━━━━━━━━━━━━━━━━\u001b[0m\u001b[37m\u001b[0m \u001b[1m28s\u001b[0m 2s/step - accuracy: 0.9515 - loss: 0.2082 - val_accuracy: 0.9429 - val_loss: 0.1399\n",
      "Epoch 10/10\n",
      "\u001b[1m13/13\u001b[0m \u001b[32m━━━━━━━━━━━━━━━━━━━━\u001b[0m\u001b[37m\u001b[0m \u001b[1m29s\u001b[0m 2s/step - accuracy: 0.9584 - loss: 0.1636 - val_accuracy: 0.9429 - val_loss: 0.1686\n",
      "\u001b[1m21/21\u001b[0m \u001b[32m━━━━━━━━━━━━━━━━━━━━\u001b[0m\u001b[37m\u001b[0m \u001b[1m7s\u001b[0m 317ms/step - accuracy: 0.9459 - loss: 0.1629\n",
      "\u001b[1m21/21\u001b[0m \u001b[32m━━━━━━━━━━━━━━━━━━━━\u001b[0m\u001b[37m\u001b[0m \u001b[1m5s\u001b[0m 229ms/step - accuracy: 0.9186 - loss: 0.2444\n"
     ]
    },
    {
     "name": "stderr",
     "output_type": "stream",
     "text": [
      "WARNING:absl:You are saving your model as an HDF5 file via `model.save()` or `keras.saving.save_model(model)`. This file format is considered legacy. We recommend using instead the native Keras format, e.g. `model.save('my_model.keras')` or `keras.saving.save_model(model, 'my_model.keras')`. \n"
     ]
    },
    {
     "name": "stdout",
     "output_type": "stream",
     "text": [
      "AlexNet - Validation Loss: 0.16861878335475922, Validation Accuracy: 0.9428571462631226\n",
      "AlexNet - Test Loss: 0.19540925323963165, Test Accuracy: 0.9306625723838806\n"
     ]
    }
   ],
   "source": [
    "from tensorflow.keras.layers import Conv2D, MaxPooling2D, Dropout\n",
    "\n",
    "# Function to create AlexNet model\n",
    "def create_alexnet(input_shape=(224, 224, 3), num_classes=2):\n",
    "    model = tf.keras.Sequential([\n",
    "        Conv2D(96, (11, 11), strides=4, activation='relu', input_shape=input_shape),\n",
    "        MaxPooling2D((3, 3), strides=2),\n",
    "        Conv2D(256, (5, 5), padding='same', activation='relu'),\n",
    "        MaxPooling2D((3, 3), strides=2),\n",
    "        Conv2D(384, (3, 3), padding='same', activation='relu'),\n",
    "        Conv2D(384, (3, 3), padding='same', activation='relu'),\n",
    "        Conv2D(256, (3, 3), padding='same', activation='relu'),\n",
    "        MaxPooling2D((3, 3), strides=2),\n",
    "        Flatten(),\n",
    "        Dense(4096, activation='relu'),\n",
    "        Dropout(0.5),\n",
    "        Dense(4096, activation='relu'),\n",
    "        Dropout(0.5),\n",
    "        Dense(num_classes, activation='softmax')\n",
    "    ])\n",
    "    model.compile(optimizer=Adam(learning_rate=1e-4), loss='categorical_crossentropy', metrics=['accuracy'])\n",
    "    return model\n",
    "\n",
    "# Create and train the AlexNet model\n",
    "alexnet_model = create_alexnet()\n",
    "alexnet_history = alexnet_model.fit(train_generator, epochs=10, validation_data=val_generator)\n",
    "alexnet_val_loss, alexnet_val_acc = alexnet_model.evaluate(val_generator)\n",
    "alexnet_test_loss, alexnet_test_acc = alexnet_model.evaluate(test_generator)\n",
    "print(f\"AlexNet - Validation Loss: {alexnet_val_loss}, Validation Accuracy: {alexnet_val_acc}\")\n",
    "print(f\"AlexNet - Test Loss: {alexnet_test_loss}, Test Accuracy: {alexnet_test_acc}\")\n",
    "\n",
    "# Save the AlexNet model\n",
    "alexnet_model.save('models/alexnet_model.h5')"
   ]
  },
  {
   "cell_type": "markdown",
   "id": "6600ed6e-157a-417a-9389-3423fd43bf93",
   "metadata": {},
   "source": [
    "### Dataset Preparation and DataLoaders"
   ]
  },
  {
   "cell_type": "code",
   "execution_count": 15,
   "id": "d36da110-e12d-4649-96ce-f5273bd0a440",
   "metadata": {},
   "outputs": [],
   "source": [
    "import torch\n",
    "import torchvision.transforms as transforms\n",
    "from torchvision.datasets import ImageFolder\n",
    "from torch.utils.data import DataLoader, random_split\n",
    "\n",
    "# Define paths\n",
    "data_dir = 'dataset'\n",
    "train_dir = f'{data_dir}/train'\n",
    "val_dir = f'{data_dir}/val'\n",
    "test_dir = f'{data_dir}/test'\n",
    "\n",
    "# Define transformations\n",
    "transform = transforms.Compose([\n",
    "    transforms.Resize((224, 224)),\n",
    "    transforms.ToTensor(),\n",
    "    transforms.Normalize(mean=[0.485, 0.456, 0.406], std=[0.229, 0.224, 0.225])\n",
    "])\n",
    "\n",
    "# Load the dataset\n",
    "dataset = ImageFolder(root=data_dir, transform=transform)\n",
    "\n",
    "# Split the dataset\n",
    "train_size = int(0.7 * len(dataset))\n",
    "val_size = int(0.2 * len(dataset))\n",
    "test_size = len(dataset) - train_size - val_size\n",
    "train_dataset, val_dataset, test_dataset = random_split(dataset, [train_size, val_size, test_size])\n",
    "\n",
    "# Create DataLoaders\n",
    "train_loader = DataLoader(train_dataset, batch_size=32, shuffle=True, num_workers=4)\n",
    "val_loader = DataLoader(val_dataset, batch_size=32, shuffle=False, num_workers=4)\n",
    "test_loader = DataLoader(test_dataset, batch_size=32, shuffle=False, num_workers=4)\n"
   ]
  },
  {
   "cell_type": "markdown",
   "id": "fc304842-28b6-4397-997d-db230e564664",
   "metadata": {},
   "source": [
    "### Faster R-CNN"
   ]
  },
  {
   "cell_type": "code",
   "execution_count": null,
   "id": "d2883ed6-f890-4b79-8a17-7b8d27dff47b",
   "metadata": {},
   "outputs": [],
   "source": [
    "import torch\n",
    "import torchvision\n",
    "from torchvision.models.detection import FasterRCNN\n",
    "from torchvision.models.detection.faster_rcnn import FastRCNNPredictor\n",
    "from torchvision.models.detection.backbone_utils import resnet_fpn_backbone\n",
    "import torch.optim as optim\n",
    "\n",
    "device = torch.device('cuda' if torch.cuda.is_available() else 'cpu')\n",
    "\n",
    "# Create Faster R-CNN model\n",
    "def get_fasterrcnn_fpn(num_classes):\n",
    "    backbone = resnet_fpn_backbone('resnet50', pretrained=True)\n",
    "    model = FasterRCNN(backbone, num_classes=num_classes)\n",
    "    return model\n",
    "\n",
    "num_classes = 3  # Example: Background, defective, nondefective\n",
    "model = get_fasterrcnn_fpn(num_classes)\n",
    "model.to(device)\n",
    "\n",
    "# Training Faster R-CNN model\n",
    "def train_fasterrcnn_model(model, data_loader, num_epochs):\n",
    "    model.train()\n",
    "    optimizer = optim.SGD(model.parameters(), lr=0.005, momentum=0.9, weight_decay=0.0005)\n",
    "    for epoch in range(num_epochs):\n",
    "        for images, targets in data_loader:\n",
    "            images = list(image.to(device) for image in images)\n",
    "            targets = [{k: v.to(device) for k, v in t.items()} for t in targets]\n",
    "\n",
    "            optimizer.zero_grad()\n",
    "            loss_dict = model(images, targets)\n",
    "            losses = sum(loss for loss in loss_dict.values())\n",
    "            losses.backward()\n",
    "            optimizer.step()\n",
    "            \n",
    "            print(f\"Epoch [{epoch+1}/{num_epochs}], Loss: {losses.item()}\")\n",
    "\n",
    "# Train the model\n",
    "train_fasterrcnn_model(model, train_loader, num_epochs=10)\n",
    "\n",
    "# Save the Faster R-CNN model\n",
    "# torch.save(model.state_dict(), 'fasterrcnn_fpn.pth')"
   ]
  },
  {
   "cell_type": "markdown",
   "id": "36dae205-2519-4661-90f7-0347e56f5db5",
   "metadata": {},
   "source": [
    "### Saving the model"
   ]
  },
  {
   "cell_type": "code",
   "execution_count": 11,
   "id": "9b6c4a0a-c962-47b9-bc8c-d59bb870e2d8",
   "metadata": {},
   "outputs": [
    {
     "name": "stderr",
     "output_type": "stream",
     "text": [
      "WARNING:absl:You are saving your model as an HDF5 file via `model.save()` or `keras.saving.save_model(model)`. This file format is considered legacy. We recommend using instead the native Keras format, e.g. `model.save('my_model.keras')` or `keras.saving.save_model(model, 'my_model.keras')`. \n"
     ]
    }
   ],
   "source": [
    "resnet_model.save('models/resnet_model.keras')\n",
    "vgg_model.save('models/vgg_model.keras')\n",
    "densenet_model.save('models/densenet_model.h5')"
   ]
  },
  {
   "cell_type": "code",
   "execution_count": null,
   "id": "530b667e-2e4a-49bc-b78f-bf21240cab3a",
   "metadata": {},
   "outputs": [],
   "source": []
  }
 ],
 "metadata": {
  "kernelspec": {
   "display_name": "Python 3 (ipykernel)",
   "language": "python",
   "name": "python3"
  },
  "language_info": {
   "codemirror_mode": {
    "name": "ipython",
    "version": 3
   },
   "file_extension": ".py",
   "mimetype": "text/x-python",
   "name": "python",
   "nbconvert_exporter": "python",
   "pygments_lexer": "ipython3",
   "version": "3.9.9"
  }
 },
 "nbformat": 4,
 "nbformat_minor": 5
}
